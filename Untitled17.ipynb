{
  "nbformat": 4,
  "nbformat_minor": 0,
  "metadata": {
    "colab": {
      "name": "Untitled17.ipynb",
      "provenance": [],
      "mount_file_id": "1JcMzx4AjGgqkdSK4dws7ggv2nGGZ5TA1",
      "authorship_tag": "ABX9TyNe1tqTqscWzJ+OLGIs5rmn",
      "include_colab_link": true
    },
    "kernelspec": {
      "name": "python3",
      "display_name": "Python 3"
    },
    "language_info": {
      "name": "python"
    }
  },
  "cells": [
    {
      "cell_type": "markdown",
      "metadata": {
        "id": "view-in-github",
        "colab_type": "text"
      },
      "source": [
        "<a href=\"https://colab.research.google.com/github/d-mcfarland/2022Spring/blob/main/Untitled17.ipynb\" target=\"_parent\"><img src=\"https://colab.research.google.com/assets/colab-badge.svg\" alt=\"Open In Colab\"/></a>"
      ]
    },
    {
      "cell_type": "code",
      "execution_count": 2,
      "metadata": {
        "colab": {
          "base_uri": "https://localhost:8080/"
        },
        "id": "e5y89q0BQsS_",
        "outputId": "62ff8ddf-9572-466d-a070-53580600f71a"
      },
      "outputs": [
        {
          "output_type": "stream",
          "name": "stdout",
          "text": [
            "Mounted at /gdrive\n",
            "Mounted at /gdrive\n"
          ]
        }
      ],
      "source": [
        "import io\n",
        "import os\n",
        "import sys\n",
        "from logging import error\n",
        "import pandas as pd\n",
        "from pandas import errors\n",
        "import numpy as np\n",
        "import datetime \n",
        "\n",
        "from google.colab import drive\n",
        "drive.mount('/gdrive')\n",
        "\n",
        "drive.mount(\"/gdrive\", force_remount=True)\n",
        "\n",
        "# show all rows & columns (wrap, truncate, see all, view)\n",
        "pd.set_option('display.max_rows', None)\n",
        "pd.set_option('display.max_columns', None)\n",
        "pd.set_option('display.width', None)\n",
        "pd.set_option('display.max_colwidth', None)\n",
        "pd.set_option(\"expand_frame_repr\", False)"
      ]
    },
    {
      "cell_type": "markdown",
      "source": [
        "#Read data files"
      ],
      "metadata": {
        "id": "Pr3Zt_QtQ8Pj"
      }
    },
    {
      "cell_type": "code",
      "source": [
        "'''\n",
        "Leading indicators:\n",
        "https://fred.stlouisfed.org/series/DJIA (Dow Jones Industrial Average)\n",
        "https://fred.stlouisfed.org/series/RSXFS (Retail Sales)\n",
        "https://fred.stlouisfed.org/series/HOUST (Private Housing Starts)\n",
        "https://fred.stlouisfed.org/series/PIEAMP01USM661N (PPI)\n",
        "https://fred.stlouisfed.org/series/IABSNNCB (Nonfinancial Corporate Business; Inventories Excluding IVA, Current Cost Basis)\n",
        "https://fred.stlouisfed.org/series/QBPBSTASIAS (intangibles)\n",
        "\n",
        "Lagging indicators:\n",
        "https://fred.stlouisfed.org/series/CPALTT01USM657N (GDP)\n",
        "https://fred.stlouisfed.org/series/UNRATE (unemployment)\n",
        "https://fred.stlouisfed.org/series/INTDSRUSM193N (interest rate)\n",
        "https://fred.stlouisfed.org/series/A053RC1Q027SBEA\n",
        "(National income: Corporate profits before tax without IVA and CCAdj)\n",
        "https://fred.stlouisfed.org/series/A4102C1Q027SBEA\n",
        "(Compensation paid to employees)\n",
        "'''\n",
        "import requests\n",
        "\n",
        "#myurl=(r'https://raw.githubusercontent.com/d-mcfarland/2022Spring/main/A053RC1Q027SBEA.csv')\n",
        "\n",
        "#df_djia=pd.read_csv(myurl,index_col=0,parse_dates=[0])\n",
        "\n",
        "df_djia=pd.read_csv('https://raw.githubusercontent.com/d-mcfarland/2022Spring/main/DJIA.csv')\n",
        "df_housing_start=pd.read_csv('https://raw.githubusercontent.com/d-mcfarland/2022Spring/main/HOUST.csv')\n",
        "df_corp_inc = pd.read_csv('https://raw.githubusercontent.com/d-mcfarland/2022Spring/main/A053RC1Q027SBEA.csv')\n",
        "df_national_inc=pd.read_csv('https://raw.githubusercontent.com/d-mcfarland/2022Spring/main/A4102C1Q027SBEA.csv')\n",
        "df_retail_sales=pd.read_csv('https://raw.githubusercontent.com/d-mcfarland/2022Spring/main/RSXFS.csv')\n",
        "df_intangibles=pd.read_csv('https://raw.githubusercontent.com/d-mcfarland/2022Spring/main/QBPBSTASIAS.csv')\n",
        "df_gdp=pd.read_csv('https://raw.githubusercontent.com/d-mcfarland/2022Spring/main/CPALTT01USM657N.csv')\n",
        "df_unemp=pd.read_csv('https://raw.githubusercontent.com/d-mcfarland/2022Spring/main/UNRATE.csv')\n",
        "df_ppi=pd.read_csv('https://raw.githubusercontent.com/d-mcfarland/2022Spring/main/PIEAMP01USM661N.csv')\n",
        "df_inventories=pd.read_csv('https://raw.githubusercontent.com/d-mcfarland/2022Spring/main/IABSNNCB.csv')\n",
        "df_int_rate=pd.read_csv('https://raw.githubusercontent.com/d-mcfarland/2022Spring/main/INTDSRUSM193N.csv')\n",
        "\n",
        "dfs={'df_djia':df_djia,\n",
        "    'df_housing_start':df_housing_start,\n",
        "    'df_corp_inc':df_corp_inc,\n",
        "    'df_national_inc':df_national_inc,\n",
        "    'df_retail_sales':df_retail_sales,\n",
        "    'df_intangibles':df_intangibles,\n",
        "    'df_gdp':df_gdp,\n",
        "    'df_inventories':df_inventories,\n",
        "    'df_unemp':df_unemp,\n",
        "    'df_int_rate':df_int_rate,\n",
        "    'df_ppi':df_ppi}\n",
        "\n",
        "for k,df in dfs.items():\n",
        "    df.reset_index(drop=False, inplace=True)\n",
        "    df['source']=k\n",
        "    df['date']= datetime.date.fromisoformat(str(df['DATE']))\n",
        "    #[df['date']=d for d in pd.to_datetime(df['DATE'])]\n",
        "    print(k, '\\n', df.info(verbose=True), df.head())\n"
      ],
      "metadata": {
        "colab": {
          "base_uri": "https://localhost:8080/",
          "height": 389
        },
        "id": "068ovh7kRBzg",
        "outputId": "7a885756-b3a7-43af-a8f0-e47eb04ac7ff"
      },
      "execution_count": 24,
      "outputs": [
        {
          "output_type": "error",
          "ename": "ValueError",
          "evalue": "ignored",
          "traceback": [
            "\u001b[0;31m---------------------------------------------------------------------------\u001b[0m",
            "\u001b[0;31mValueError\u001b[0m                                Traceback (most recent call last)",
            "\u001b[0;32m<ipython-input-24-3b1424038a13>\u001b[0m in \u001b[0;36m<module>\u001b[0;34m()\u001b[0m\n\u001b[1;32m     50\u001b[0m     \u001b[0mdf\u001b[0m\u001b[0;34m.\u001b[0m\u001b[0mreset_index\u001b[0m\u001b[0;34m(\u001b[0m\u001b[0mdrop\u001b[0m\u001b[0;34m=\u001b[0m\u001b[0;32mFalse\u001b[0m\u001b[0;34m,\u001b[0m \u001b[0minplace\u001b[0m\u001b[0;34m=\u001b[0m\u001b[0;32mTrue\u001b[0m\u001b[0;34m)\u001b[0m\u001b[0;34m\u001b[0m\u001b[0;34m\u001b[0m\u001b[0m\n\u001b[1;32m     51\u001b[0m     \u001b[0mdf\u001b[0m\u001b[0;34m[\u001b[0m\u001b[0;34m'source'\u001b[0m\u001b[0;34m]\u001b[0m\u001b[0;34m=\u001b[0m\u001b[0mk\u001b[0m\u001b[0;34m\u001b[0m\u001b[0;34m\u001b[0m\u001b[0m\n\u001b[0;32m---> 52\u001b[0;31m     \u001b[0mdf\u001b[0m\u001b[0;34m[\u001b[0m\u001b[0;34m'date'\u001b[0m\u001b[0;34m]\u001b[0m\u001b[0;34m=\u001b[0m \u001b[0mdatetime\u001b[0m\u001b[0;34m.\u001b[0m\u001b[0mdate\u001b[0m\u001b[0;34m.\u001b[0m\u001b[0mfromisoformat\u001b[0m\u001b[0;34m(\u001b[0m\u001b[0mstr\u001b[0m\u001b[0;34m(\u001b[0m\u001b[0mdf\u001b[0m\u001b[0;34m[\u001b[0m\u001b[0;34m'DATE'\u001b[0m\u001b[0;34m]\u001b[0m\u001b[0;34m)\u001b[0m\u001b[0;34m)\u001b[0m\u001b[0;34m\u001b[0m\u001b[0;34m\u001b[0m\u001b[0m\n\u001b[0m\u001b[1;32m     53\u001b[0m     \u001b[0;31m#[df['date']=d for d in pd.to_datetime(df['DATE'])]\u001b[0m\u001b[0;34m\u001b[0m\u001b[0;34m\u001b[0m\u001b[0;34m\u001b[0m\u001b[0m\n\u001b[1;32m     54\u001b[0m     \u001b[0mprint\u001b[0m\u001b[0;34m(\u001b[0m\u001b[0mk\u001b[0m\u001b[0;34m,\u001b[0m \u001b[0;34m'\\n'\u001b[0m\u001b[0;34m,\u001b[0m \u001b[0mdf\u001b[0m\u001b[0;34m.\u001b[0m\u001b[0minfo\u001b[0m\u001b[0;34m(\u001b[0m\u001b[0mverbose\u001b[0m\u001b[0;34m=\u001b[0m\u001b[0;32mTrue\u001b[0m\u001b[0;34m)\u001b[0m\u001b[0;34m,\u001b[0m \u001b[0mdf\u001b[0m\u001b[0;34m.\u001b[0m\u001b[0mhead\u001b[0m\u001b[0;34m(\u001b[0m\u001b[0;34m)\u001b[0m\u001b[0;34m)\u001b[0m\u001b[0;34m\u001b[0m\u001b[0;34m\u001b[0m\u001b[0m\n",
            "\u001b[0;31mValueError\u001b[0m: Invalid isoformat string: '0       2012-01-13\\n1       2012-01-16\\n2       2012-01-17\\n3       2012-01-18\\n4       2012-01-19\\n5       2012-01-20\\n6       2012-01-23\\n7       2012-01-24\\n8       2012-01-25\\n9       2012-01-26\\n10      2012-01-27\\n11      2012-01-30\\n12      2012-01-31\\n13      2012-02-01\\n14      2012-02-02\\n15      2012-02-03\\n16      2012-02-06\\n17      2012-02-07\\n18      2012-02-08\\n19      2012-02-09\\n20      2012-02-10\\n21      2012-02-13\\n22      2012-02-14\\n23      2012-02-15\\n24      2012-02-16\\n25      2012-02-17\\n26      2012-02-20\\n27      2012-02-21\\n28      2012-02-22\\n29      2012-02-23\\n30      2012-02-24\\n31      2012-02-27\\n32      2012-02-28\\n33      2012-02-29\\n34      2012-03-01\\n35      2012-03-02\\n36      2012-03-05\\n37      2012-03-06\\n38      2012-03-07\\n39      2012-03-08\\n40      2012-03-09\\n41      2012-03-12\\n42      2012-03-13\\n43      2012-03-14\\n44      2012-03-15\\n45      2012-03-16\\n46      2012-03-19\\n47      2012-03-20\\n48      2012-03-21\\n49      2012-03-22\\n50      2012-03-23\\n51      2012-03-26\\n52      2012-03-27\\n53      2012-03-28\\n54      2012-03-29\\n55      2012-03-30\\n56      2012-04-02\\n57      2012-04-03\\n58      2012-04-04\\n59      2012-04-05\\n60      2012-04-06\\n61      2012-04-09\\n62      2012-04-10\\n63      2012-04-11\\n64      2012-04-12\\n65      2012-04-13\\n66      2012-04-16\\n67      2012-04-17\\n68      2012-04-18\\n69      2012-04-19\\n70      2012-04-20\\n71      2012-04-23\\n72     ..."
          ]
        }
      ]
    },
    {
      "cell_type": "code",
      "source": [
        "print(df_ppi.info(verbose=True),df_ppi['DATE'])\n"
      ],
      "metadata": {
        "colab": {
          "base_uri": "https://localhost:8080/"
        },
        "id": "7YJnvRXSIEdn",
        "outputId": "70f92502-ea4e-48b9-8ed5-e7c432158d3c"
      },
      "execution_count": 25,
      "outputs": [
        {
          "output_type": "stream",
          "name": "stdout",
          "text": [
            "<class 'pandas.core.frame.DataFrame'>\n",
            "RangeIndex: 121 entries, 0 to 120\n",
            "Data columns (total 2 columns):\n",
            " #   Column           Non-Null Count  Dtype  \n",
            "---  ------           --------------  -----  \n",
            " 0   DATE             121 non-null    object \n",
            " 1   PIEAMP01USM661N  121 non-null    float64\n",
            "dtypes: float64(1), object(1)\n",
            "memory usage: 2.0+ KB\n",
            "None 0      2011-10-01\n",
            "1      2011-11-01\n",
            "2      2011-12-01\n",
            "3      2012-01-01\n",
            "4      2012-02-01\n",
            "5      2012-03-01\n",
            "6      2012-04-01\n",
            "7      2012-05-01\n",
            "8      2012-06-01\n",
            "9      2012-07-01\n",
            "10     2012-08-01\n",
            "11     2012-09-01\n",
            "12     2012-10-01\n",
            "13     2012-11-01\n",
            "14     2012-12-01\n",
            "15     2013-01-01\n",
            "16     2013-02-01\n",
            "17     2013-03-01\n",
            "18     2013-04-01\n",
            "19     2013-05-01\n",
            "20     2013-06-01\n",
            "21     2013-07-01\n",
            "22     2013-08-01\n",
            "23     2013-09-01\n",
            "24     2013-10-01\n",
            "25     2013-11-01\n",
            "26     2013-12-01\n",
            "27     2014-01-01\n",
            "28     2014-02-01\n",
            "29     2014-03-01\n",
            "30     2014-04-01\n",
            "31     2014-05-01\n",
            "32     2014-06-01\n",
            "33     2014-07-01\n",
            "34     2014-08-01\n",
            "35     2014-09-01\n",
            "36     2014-10-01\n",
            "37     2014-11-01\n",
            "38     2014-12-01\n",
            "39     2015-01-01\n",
            "40     2015-02-01\n",
            "41     2015-03-01\n",
            "42     2015-04-01\n",
            "43     2015-05-01\n",
            "44     2015-06-01\n",
            "45     2015-07-01\n",
            "46     2015-08-01\n",
            "47     2015-09-01\n",
            "48     2015-10-01\n",
            "49     2015-11-01\n",
            "50     2015-12-01\n",
            "51     2016-01-01\n",
            "52     2016-02-01\n",
            "53     2016-03-01\n",
            "54     2016-04-01\n",
            "55     2016-05-01\n",
            "56     2016-06-01\n",
            "57     2016-07-01\n",
            "58     2016-08-01\n",
            "59     2016-09-01\n",
            "60     2016-10-01\n",
            "61     2016-11-01\n",
            "62     2016-12-01\n",
            "63     2017-01-01\n",
            "64     2017-02-01\n",
            "65     2017-03-01\n",
            "66     2017-04-01\n",
            "67     2017-05-01\n",
            "68     2017-06-01\n",
            "69     2017-07-01\n",
            "70     2017-08-01\n",
            "71     2017-09-01\n",
            "72     2017-10-01\n",
            "73     2017-11-01\n",
            "74     2017-12-01\n",
            "75     2018-01-01\n",
            "76     2018-02-01\n",
            "77     2018-03-01\n",
            "78     2018-04-01\n",
            "79     2018-05-01\n",
            "80     2018-06-01\n",
            "81     2018-07-01\n",
            "82     2018-08-01\n",
            "83     2018-09-01\n",
            "84     2018-10-01\n",
            "85     2018-11-01\n",
            "86     2018-12-01\n",
            "87     2019-01-01\n",
            "88     2019-02-01\n",
            "89     2019-03-01\n",
            "90     2019-04-01\n",
            "91     2019-05-01\n",
            "92     2019-06-01\n",
            "93     2019-07-01\n",
            "94     2019-08-01\n",
            "95     2019-09-01\n",
            "96     2019-10-01\n",
            "97     2019-11-01\n",
            "98     2019-12-01\n",
            "99     2020-01-01\n",
            "100    2020-02-01\n",
            "101    2020-03-01\n",
            "102    2020-04-01\n",
            "103    2020-05-01\n",
            "104    2020-06-01\n",
            "105    2020-07-01\n",
            "106    2020-08-01\n",
            "107    2020-09-01\n",
            "108    2020-10-01\n",
            "109    2020-11-01\n",
            "110    2020-12-01\n",
            "111    2021-01-01\n",
            "112    2021-02-01\n",
            "113    2021-03-01\n",
            "114    2021-04-01\n",
            "115    2021-05-01\n",
            "116    2021-06-01\n",
            "117    2021-07-01\n",
            "118    2021-08-01\n",
            "119    2021-09-01\n",
            "120    2021-10-01\n",
            "Name: DATE, dtype: object\n"
          ]
        }
      ]
    }
  ]
}